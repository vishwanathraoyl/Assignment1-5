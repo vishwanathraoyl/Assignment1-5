{
 "cells": [
  {
   "cell_type": "code",
   "execution_count": 6,
   "metadata": {},
   "outputs": [
    {
     "name": "stdout",
     "output_type": "stream",
     "text": [
      "0.0\n",
      "70.0\n",
      "200\n"
     ]
    }
   ],
   "source": [
    "# PiggyBank class\n",
    "class Piggybank:\n",
    "    def __init__(self, name, balance=0.00):\n",
    "        self.name = name\n",
    "        self.balance = balance\n",
    "\n",
    "    def deposit(self, amount):\n",
    "        \"\"\"make a deposit\"\"\"\n",
    "        self.balance += amount\n",
    "\n",
    "    def withdraw(self, amount):\n",
    "        \"\"\"make a withdraw\"\"\"\n",
    "        if amount > self.balance:\n",
    "            raise ValueError(\"insufficient funds\")\n",
    "        self.balance -= amount\n",
    "\n",
    "    def get_balance(self):\n",
    "        \"\"\"check the balance\"\"\"\n",
    "        return self.balance\n",
    "\n",
    "\n",
    "def main():\n",
    "    customer1 = Piggybank('Vishwanath')\n",
    "    print(customer1.get_balance())\n",
    "    customer1.deposit(100)\n",
    "    customer1.withdraw(30)\n",
    "    print(customer1.get_balance())\n",
    "\n",
    "    customer2 = Piggybank('Sam', 200)\n",
    "    print(customer2.get_balance())\n",
    "\n",
    "if __name__ == \"__main__\":\n",
    "    main()"
   ]
  }
 ],
 "metadata": {
  "kernelspec": {
   "display_name": "Python 3",
   "language": "python",
   "name": "python3"
  },
  "language_info": {
   "codemirror_mode": {
    "name": "ipython",
    "version": 3
   },
   "file_extension": ".py",
   "mimetype": "text/x-python",
   "name": "python",
   "nbconvert_exporter": "python",
   "pygments_lexer": "ipython3",
   "version": "3.7.1"
  }
 },
 "nbformat": 4,
 "nbformat_minor": 2
}
